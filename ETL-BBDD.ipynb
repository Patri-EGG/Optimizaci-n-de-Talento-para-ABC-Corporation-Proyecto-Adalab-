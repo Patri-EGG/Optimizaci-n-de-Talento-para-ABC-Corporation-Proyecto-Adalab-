{
 "cells": [
  {
   "cell_type": "markdown",
   "metadata": {},
   "source": [
    "#### Notas:"
   ]
  },
  {
   "cell_type": "markdown",
   "metadata": {},
   "source": [
    "##### He hecho pequeñas modificaciones en la Fase 2 para manejar errores que aparecieron durante la ejecución de esta etapa. Estos cambios están indicados como 'Cambios Patri'en el archivo 'Fase 2 COPIA' el cuál es una copia de el archivo Fase 2 original con cambios añadidos. No he tocado el original."
   ]
  },
  {
   "cell_type": "markdown",
   "metadata": {},
   "source": [
    "##### El siguiente código es mayormente una copia del archivo creado por Paola 'sql python pandas.ipynb' con algunos cambios explicados a continuación:"
   ]
  },
  {
   "cell_type": "markdown",
   "metadata": {},
   "source": [
    "### Errores  que aparecieron en la ejecución de las funciones :"
   ]
  },
  {
   "cell_type": "markdown",
   "metadata": {},
   "source": [
    "##### CHECK (Percent_Salary_Hike BETWEEN 0 AND 1) -- Cambio a chk_Percent_Salary_Hike  BETWEEN 0 AND 100\n",
    "##### Agrego Columna 'Satisfaction_Group' en la creacion de la tabla y cambié valores nan por espacios vacios en Fase anterior archivo: Fase2 COPIA Patri.\n",
    "##### CHECK (Performance_Rating BETWEEN 1 AND 5) Cambio a chk_Performance_Rating  a BETWEEN 0 AND 5.\n",
    "##### Stock_Option_Level constrains  a BETWEEN 0 AND 3. Porque los valores solo llegan a 3\n",
    "##### Eliminé PRIMARY KEYS(Employee_Number) duplicados en archivo: Fase2 COPIA Patri.\n",
    "##### He puesto 'Employee_Number' como la primera columna de la tabla."
   ]
  },
  {
   "cell_type": "code",
   "execution_count": 110,
   "metadata": {},
   "outputs": [
    {
     "name": "stdout",
     "output_type": "stream",
     "text": [
      "Database 'ABC_Corporation' creada o ya existe.\n",
      "Se ha creado la tabla.\n",
      "registros insertados correctamente.\n"
     ]
    }
   ],
   "source": [
    "import pandas as pd\n",
    "import mysql.connector\n",
    "from mysql.connector import Error\n",
    "\n",
    "def create_schema(host, user, password, schema_name):\n",
    "    try:\n",
    "        connection = mysql.connector.connect(host=host, user=user, password=password)\n",
    "        if connection.is_connected():\n",
    "            cursor = connection.cursor()\n",
    "            cursor.execute(f\"CREATE DATABASE IF NOT EXISTS {schema_name}\")\n",
    "            print(f\"Database '{schema_name}' creada o ya existe.\")\n",
    "            cursor.close()\n",
    "        connection.close()\n",
    "    except Error as e:\n",
    "        print(f\"Error mientras conectamos  MySQL: {e}\")\n",
    "\n",
    "def create_database(connection):\n",
    "    cursor = connection.cursor()\n",
    "    try:\n",
    "        cursor.execute(\"\"\"\n",
    "        CREATE TABLE IF NOT EXISTS Personal_Record (\n",
    "            Employee_Number INT PRIMARY KEY,\n",
    "            Age INT,\n",
    "            Age_Group VARCHAR(100),\n",
    "            Attrition BOOLEAN,\n",
    "            Business_Travel VARCHAR(100),\n",
    "            Daily_Rate INT,\n",
    "            Department VARCHAR(100),\n",
    "            Distance_From_Home INT,\n",
    "            Education TINYINT,\n",
    "            Education_Field VARCHAR(100),\n",
    "            Environment_Satisfaction INT,\n",
    "            Gender CHAR(1),\n",
    "            Hourly_Rate INT,\n",
    "            Job_Involvement TINYINT,\n",
    "            Job_Level TINYINT,\n",
    "            Job_Role VARCHAR(100),\n",
    "            Job_Satisfaction TINYINT,\n",
    "            Marital_Status VARCHAR(100),\n",
    "            Monthly_Income INT,\n",
    "            Monthly_Rate INT,\n",
    "            Num_Companies_Worked INT,\n",
    "            Over_Time VARCHAR(50),\n",
    "            Percent_Salary_Hike DECIMAL(5,2),\n",
    "            Performance_Rating TINYINT,\n",
    "            Relationship_Satisfaction TINYINT,\n",
    "            Satisfaction_Group VARCHAR(25), \n",
    "            Stock_Option_Level TINYINT,\n",
    "            Total_Working_Years INT,\n",
    "            Training_Times_Last_Year INT,\n",
    "            Work_Life_Balance TINYINT,\n",
    "            Years_At_Company INT,\n",
    "            Years_Since_Last_Promotion INT,\n",
    "            Years_With_Curr_Manager INT,\n",
    "            Date_Birth INT,\n",
    "            Remote_Work BOOLEAN,\n",
    "            CONSTRAINT chk_Gender CHECK (Gender IN ('F', 'M')),\n",
    "            CONSTRAINT chk_Over_Time CHECK (Over_Time IN ('True', 'False', 'Unknown')),\n",
    "            CONSTRAINT chk_Percent_Salary_Hike CHECK (Percent_Salary_Hike BETWEEN 0 AND 100),\n",
    "            CONSTRAINT chk_Education CHECK (Education BETWEEN 1 AND 5),\n",
    "            CONSTRAINT chk_Job_Involvement CHECK (Job_Involvement BETWEEN 1 AND 5),\n",
    "            CONSTRAINT chk_Job_Level CHECK (Job_Level BETWEEN 1 AND 5),\n",
    "            CONSTRAINT chk_Job_Satisfaction CHECK (Job_Satisfaction BETWEEN 1 AND 5),\n",
    "            CONSTRAINT chk_Marital_Status CHECK (Marital_Status IN ('Married', 'Divorced', 'Single', 'Unknown')),\n",
    "            CONSTRAINT chk_Performance_Rating CHECK (Performance_Rating BETWEEN 0 AND 4),\n",
    "            CONSTRAINT chk_Relationship_Satisfaction CHECK (Relationship_Satisfaction BETWEEN 1 AND 5),\n",
    "            CONSTRAINT chk_Stock_Option_Level CHECK (Stock_Option_Level BETWEEN 0 AND 3),\n",
    "            CONSTRAINT chk_Work_Life_Balance CHECK (Work_Life_Balance BETWEEN 1 AND 5)\n",
    "        );\n",
    "        \"\"\")\n",
    "        connection.commit()\n",
    "        print(\"Se ha creado la tabla.\")\n",
    "    except Error as e:\n",
    "        print(f\"Error al crear tabla: {e}\")\n",
    "    finally:\n",
    "        cursor.close()\n",
    "\n",
    "def load_data(df, connection):\n",
    "    cursor = connection.cursor()\n",
    "    cols = ', '.join([f\"`{col}`\" for col in df.columns])\n",
    "    placeholders = ', '.join(['%s'] * len(df.columns))\n",
    "    sql = f\"INSERT INTO Personal_Record ({cols}) VALUES ({placeholders})\"\n",
    "    try:\n",
    "        for index, row in df.iterrows():\n",
    "            cursor.execute(sql, tuple(row))\n",
    "        connection.commit()\n",
    "        print(\"registros insertados correctamente.\")\n",
    "    except Error as e:\n",
    "        print(f\"Error al insertar datos: {e}\")\n",
    "        connection.rollback()\n",
    "    finally:\n",
    "        cursor.close()\n",
    "\n",
    "# Ejecucion principal\n",
    "host = '127.0.0.1'\n",
    "user = 'root'\n",
    "password = 'AlumnaAdalab'\n",
    "schema_name = 'ABC_Corporation'\n",
    "\n",
    "# Creamos schema \n",
    "create_schema(host, user, password, schema_name)\n",
    "connection = mysql.connector.connect(host=host, user=user, password=password, database=schema_name)\n",
    "\n",
    "# aseguramos que el schema existe\n",
    "create_database(connection)\n",
    "\n",
    "# Insertamos datos a la tabla\n",
    "df = pd.read_csv('https://raw.githubusercontent.com/nuriancg/project-da-promo-H-module-3-team-1/Patricia/HR_CLEAN_DATA_2.csv')\n",
    "load_data(df, connection)\n",
    "\n",
    "# Cerramos conexion\n",
    "connection.close()\n"
   ]
  },
  {
   "cell_type": "code",
   "execution_count": 107,
   "metadata": {},
   "outputs": [
    {
     "name": "stdout",
     "output_type": "stream",
     "text": [
      "columnas con nan: []\n"
     ]
    }
   ],
   "source": [
    "df = pd.read_csv('https://raw.githubusercontent.com/nuriancg/project-da-promo-H-module-3-team-1/Patricia/HR_CLEAN_DATA_2.csv')\n",
    "nan_columns = df.columns[df.isna().any()].tolist()\n",
    "print(\"columnas con nan:\", nan_columns)"
   ]
  },
  {
   "cell_type": "markdown",
   "metadata": {},
   "source": [
    "#### Lo siguiente son codigos de comprobacion que he usado para mientras aparecian errores (ignorar)"
   ]
  },
  {
   "cell_type": "code",
   "execution_count": 103,
   "metadata": {},
   "outputs": [],
   "source": [
    "# df.head()"
   ]
  },
  {
   "cell_type": "code",
   "execution_count": 108,
   "metadata": {},
   "outputs": [
    {
     "data": {
      "text/plain": [
       "0"
      ]
     },
     "execution_count": 108,
     "metadata": {},
     "output_type": "execute_result"
    }
   ],
   "source": [
    "# df.index.duplicated().sum()"
   ]
  },
  {
   "cell_type": "code",
   "execution_count": 109,
   "metadata": {},
   "outputs": [
    {
     "data": {
      "text/plain": [
       "0"
      ]
     },
     "execution_count": 109,
     "metadata": {},
     "output_type": "execute_result"
    }
   ],
   "source": [
    "# df.duplicated().sum()"
   ]
  },
  {
   "cell_type": "code",
   "execution_count": 105,
   "metadata": {},
   "outputs": [],
   "source": [
    "# print(df.index.isnull().any())"
   ]
  },
  {
   "cell_type": "code",
   "execution_count": 106,
   "metadata": {},
   "outputs": [],
   "source": [
    "# df.Stock_Option_Level.unique()"
   ]
  }
 ],
 "metadata": {
  "kernelspec": {
   "display_name": "base",
   "language": "python",
   "name": "python3"
  },
  "language_info": {
   "codemirror_mode": {
    "name": "ipython",
    "version": 3
   },
   "file_extension": ".py",
   "mimetype": "text/x-python",
   "name": "python",
   "nbconvert_exporter": "python",
   "pygments_lexer": "ipython3",
   "version": "3.11.8"
  }
 },
 "nbformat": 4,
 "nbformat_minor": 2
}
