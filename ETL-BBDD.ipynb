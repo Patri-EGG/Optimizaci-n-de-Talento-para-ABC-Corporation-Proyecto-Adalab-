{
 "cells": [
  {
   "cell_type": "markdown",
   "metadata": {},
   "source": [
    "#### Notas:"
   ]
  },
  {
   "cell_type": "markdown",
   "metadata": {},
   "source": [
    "##### He hecho pequeñas modificaciones en la Fase 2 para manejar errores que aparecieron en esta etapa. Estos cambios están indicados como 'Cambios Patri'en el archivo 'Fase 2 COPIA' el cuál es una copia de el archivo Fase 2 original con cambios añadidos. No he tocado el original."
   ]
  },
  {
   "cell_type": "markdown",
   "metadata": {},
   "source": [
    "### Errores  que aparecieron en la ejecución de las funciones :"
   ]
  },
  {
   "cell_type": "markdown",
   "metadata": {},
   "source": [
    "##### Cambio chk_Percent_Salary_Hike CHECK (Percent_Salary_Hike BETWEEN 0 AND 1) a BETWEEN 0 AND 100\n",
    "##### Agrego Columna 'Satisfaction_Group' en la creacion de la tabla y cambié valores nan por espacios vacios en Fase anterior archivo: Fase2 COPIA Patri.\n",
    "##### chk_Performance_Rating CHECK (Performance_Rating BETWEEN 1 AND 5) a BETWEEN 0 AND 5\n",
    "##### Stock_Option_Level constrains a a BETWEEN 0 AND 3. Porque los valores solo llegan a 3\n",
    "##### Eliminé PRIMARY KEYS(Employee_Number) duplicados en archivo: Fase2 COPIA Patri.\n",
    "##### He puesto 'Employee_Number' como la primera columna de la tabla."
   ]
  },
  {
   "cell_type": "code",
   "execution_count": 80,
   "metadata": {},
   "outputs": [
    {
     "name": "stdout",
     "output_type": "stream",
     "text": [
      "Database 'ABC_Corporation' created or already exists.\n",
      "Table created successfully.\n",
      "1 registros insertados correctamente.\n"
     ]
    }
   ],
   "source": [
    "import pandas as pd\n",
    "import mysql.connector\n",
    "from mysql.connector import Error\n",
    "\n",
    "def create_schema(host, user, password, schema_name):\n",
    "    try:\n",
    "        connection = mysql.connector.connect(host=host, user=user, password=password)\n",
    "        if connection.is_connected():\n",
    "            cursor = connection.cursor()\n",
    "            cursor.execute(f\"CREATE DATABASE IF NOT EXISTS {schema_name}\")\n",
    "            print(f\"Database '{schema_name}' creada o ya existe.\")\n",
    "            cursor.close()\n",
    "        connection.close()\n",
    "    except Error as e:\n",
    "        print(f\"Error mientras conectamos  MySQL: {e}\")\n",
    "\n",
    "def create_database(connection):\n",
    "    cursor = connection.cursor()\n",
    "    try:\n",
    "        cursor.execute(\"\"\"\n",
    "        CREATE TABLE IF NOT EXISTS Personal_Record (\n",
    "            Employee_Number INT PRIMARY KEY,\n",
    "            Age INT,\n",
    "            Age_Group VARCHAR(100),\n",
    "            Attrition BOOLEAN,\n",
    "            Business_Travel VARCHAR(100),\n",
    "            Daily_Rate INT,\n",
    "            Department VARCHAR(100),\n",
    "            Distance_From_Home INT,\n",
    "            Education TINYINT,\n",
    "            Education_Field VARCHAR(100),\n",
    "            Environment_Satisfaction INT,\n",
    "            Gender CHAR(1),\n",
    "            Hourly_Rate INT,\n",
    "            Job_Involvement TINYINT,\n",
    "            Job_Level TINYINT,\n",
    "            Job_Role VARCHAR(100),\n",
    "            Job_Satisfaction TINYINT,\n",
    "            Marital_Status VARCHAR(100),\n",
    "            Monthly_Income INT,\n",
    "            Monthly_Rate INT,\n",
    "            Num_Companies_Worked INT,\n",
    "            Over_Time VARCHAR(50),\n",
    "            Percent_Salary_Hike DECIMAL(5,2),\n",
    "            Performance_Rating TINYINT,\n",
    "            Relationship_Satisfaction TINYINT,\n",
    "            Satisfaction_Group VARCHAR(25), \n",
    "            Stock_Option_Level TINYINT,\n",
    "            Total_Working_Years INT,\n",
    "            Training_Times_Last_Year INT,\n",
    "            Work_Life_Balance TINYINT,\n",
    "            Years_At_Company INT,\n",
    "            Years_Since_Last_Promotion INT,\n",
    "            Years_With_Curr_Manager INT,\n",
    "            Date_Birth INT,\n",
    "            Remote_Work BOOLEAN,\n",
    "            CONSTRAINT chk_Gender CHECK (Gender IN ('F', 'M')),\n",
    "            CONSTRAINT chk_Over_Time CHECK (Over_Time IN ('True', 'False', 'Unknown')),\n",
    "            CONSTRAINT chk_Percent_Salary_Hike CHECK (Percent_Salary_Hike BETWEEN 0 AND 100),\n",
    "            CONSTRAINT chk_Education CHECK (Education BETWEEN 1 AND 5),\n",
    "            CONSTRAINT chk_Job_Involvement CHECK (Job_Involvement BETWEEN 1 AND 5),\n",
    "            CONSTRAINT chk_Job_Level CHECK (Job_Level BETWEEN 1 AND 5),\n",
    "            CONSTRAINT chk_Job_Satisfaction CHECK (Job_Satisfaction BETWEEN 1 AND 5),\n",
    "            CONSTRAINT chk_Marital_Status CHECK (Marital_Status IN ('Married', 'Divorced', 'Single', 'Unknown')),\n",
    "            CONSTRAINT chk_Performance_Rating CHECK (Performance_Rating BETWEEN 0 AND 4),\n",
    "            CONSTRAINT chk_Relationship_Satisfaction CHECK (Relationship_Satisfaction BETWEEN 1 AND 5),\n",
    "            CONSTRAINT chk_Stock_Option_Level CHECK (Stock_Option_Level BETWEEN 0 AND 3),\n",
    "            CONSTRAINT chk_Work_Life_Balance CHECK (Work_Life_Balance BETWEEN 1 AND 5)\n",
    "        );\n",
    "        \"\"\")\n",
    "        connection.commit()\n",
    "        print(\"Se ha creado la tabla.\")\n",
    "    except Error as e:\n",
    "        print(f\"Error al crear tabla: {e}\")\n",
    "    finally:\n",
    "        cursor.close()\n",
    "\n",
    "def load_data(df, connection):\n",
    "    cursor = connection.cursor()\n",
    "    cols = ', '.join([f\"`{col}`\" for col in df.columns])\n",
    "    placeholders = ', '.join(['%s'] * len(df.columns))\n",
    "    sql = f\"INSERT INTO Personal_Record ({cols}) VALUES ({placeholders})\"\n",
    "    try:\n",
    "        for index, row in df.iterrows():\n",
    "            cursor.execute(sql, tuple(row))\n",
    "        connection.commit()\n",
    "        print(\"registros insertados correctamente.\")\n",
    "    except Error as e:\n",
    "        print(f\"Error al insertar datos: {e}\")\n",
    "        connection.rollback()\n",
    "    finally:\n",
    "        cursor.close()\n",
    "\n",
    "# Ejecucion principal\n",
    "host = '127.0.0.1'\n",
    "user = 'root'\n",
    "password = 'AlumnaAdalab'\n",
    "schema_name = 'ABC_Corporation'\n",
    "\n",
    "# Creamos schema \n",
    "create_schema(host, user, password, schema_name)\n",
    "connection = mysql.connector.connect(host=host, user=user, password=password, database=schema_name)\n",
    "\n",
    "# Nos aseguramos que el schema existe\n",
    "create_database(connection)\n",
    "\n",
    "# Insertamos datos a la tabla\n",
    "df = pd.read_csv('HR_CLEAN_DATA_2.csv')\n",
    "load_data(df, connection)\n",
    "\n",
    "# Cerramos conexion\n",
    "connection.close()\n"
   ]
  },
  {
   "cell_type": "code",
   "execution_count": 78,
   "metadata": {},
   "outputs": [
    {
     "name": "stdout",
     "output_type": "stream",
     "text": [
      "columnas con nan: []\n"
     ]
    }
   ],
   "source": [
    "# df = pd.read_csv('HR_CLEAN_DATA_2.csv')\n",
    "# nan_columns = df.columns[df.isna().any()].tolist()\n",
    "# print(\"columnas con nan:\", nan_columns)"
   ]
  },
  {
   "cell_type": "markdown",
   "metadata": {},
   "source": [
    "#### Lo siguiente son codigos de comprobacion que he usado para mientras aparecian errores (ignorar)"
   ]
  },
  {
   "cell_type": "code",
   "execution_count": 75,
   "metadata": {},
   "outputs": [
    {
     "data": {
      "text/html": [
       "<div>\n",
       "<style scoped>\n",
       "    .dataframe tbody tr th:only-of-type {\n",
       "        vertical-align: middle;\n",
       "    }\n",
       "\n",
       "    .dataframe tbody tr th {\n",
       "        vertical-align: top;\n",
       "    }\n",
       "\n",
       "    .dataframe thead th {\n",
       "        text-align: right;\n",
       "    }\n",
       "</style>\n",
       "<table border=\"1\" class=\"dataframe\">\n",
       "  <thead>\n",
       "    <tr style=\"text-align: right;\">\n",
       "      <th></th>\n",
       "      <th>Employee_Number</th>\n",
       "      <th>Age</th>\n",
       "      <th>Age_Group</th>\n",
       "      <th>Attrition</th>\n",
       "      <th>Business_Travel</th>\n",
       "      <th>Daily_Rate</th>\n",
       "      <th>Department</th>\n",
       "      <th>Distance_From_Home</th>\n",
       "      <th>Education</th>\n",
       "      <th>Education_Field</th>\n",
       "      <th>...</th>\n",
       "      <th>Satisfaction_Group</th>\n",
       "      <th>Stock_Option_Level</th>\n",
       "      <th>Total_Working_Years</th>\n",
       "      <th>Training_Times_Last_Year</th>\n",
       "      <th>Work_Life_Balance</th>\n",
       "      <th>Years_At_Company</th>\n",
       "      <th>Years_Since_Last_Promotion</th>\n",
       "      <th>Years_With_Curr_Manager</th>\n",
       "      <th>Date_Birth</th>\n",
       "      <th>Remote_Work</th>\n",
       "    </tr>\n",
       "  </thead>\n",
       "  <tbody>\n",
       "    <tr>\n",
       "      <th>0</th>\n",
       "      <td>162</td>\n",
       "      <td>51</td>\n",
       "      <td>46-55</td>\n",
       "      <td>False</td>\n",
       "      <td>Unknown</td>\n",
       "      <td>684</td>\n",
       "      <td>Research &amp; Development</td>\n",
       "      <td>6</td>\n",
       "      <td>3</td>\n",
       "      <td>Unknown</td>\n",
       "      <td>...</td>\n",
       "      <td></td>\n",
       "      <td>0</td>\n",
       "      <td>11</td>\n",
       "      <td>5</td>\n",
       "      <td>3</td>\n",
       "      <td>20</td>\n",
       "      <td>15</td>\n",
       "      <td>15</td>\n",
       "      <td>1972</td>\n",
       "      <td>True</td>\n",
       "    </tr>\n",
       "    <tr>\n",
       "      <th>1</th>\n",
       "      <td>259</td>\n",
       "      <td>52</td>\n",
       "      <td>46-55</td>\n",
       "      <td>False</td>\n",
       "      <td>Unknown</td>\n",
       "      <td>699</td>\n",
       "      <td>Unknown</td>\n",
       "      <td>1</td>\n",
       "      <td>4</td>\n",
       "      <td>Life Sciences</td>\n",
       "      <td>...</td>\n",
       "      <td></td>\n",
       "      <td>1</td>\n",
       "      <td>34</td>\n",
       "      <td>5</td>\n",
       "      <td>3</td>\n",
       "      <td>33</td>\n",
       "      <td>11</td>\n",
       "      <td>9</td>\n",
       "      <td>1971</td>\n",
       "      <td>True</td>\n",
       "    </tr>\n",
       "    <tr>\n",
       "      <th>2</th>\n",
       "      <td>319</td>\n",
       "      <td>42</td>\n",
       "      <td>36-45</td>\n",
       "      <td>False</td>\n",
       "      <td>Travel Rarely</td>\n",
       "      <td>532</td>\n",
       "      <td>Research &amp; Development</td>\n",
       "      <td>4</td>\n",
       "      <td>2</td>\n",
       "      <td>Technical Degree</td>\n",
       "      <td>...</td>\n",
       "      <td></td>\n",
       "      <td>0</td>\n",
       "      <td>22</td>\n",
       "      <td>3</td>\n",
       "      <td>3</td>\n",
       "      <td>22</td>\n",
       "      <td>11</td>\n",
       "      <td>15</td>\n",
       "      <td>1981</td>\n",
       "      <td>True</td>\n",
       "    </tr>\n",
       "    <tr>\n",
       "      <th>3</th>\n",
       "      <td>2069</td>\n",
       "      <td>47</td>\n",
       "      <td>46-55</td>\n",
       "      <td>False</td>\n",
       "      <td>Travel Rarely</td>\n",
       "      <td>359</td>\n",
       "      <td>Research &amp; Development</td>\n",
       "      <td>2</td>\n",
       "      <td>4</td>\n",
       "      <td>Medical</td>\n",
       "      <td>...</td>\n",
       "      <td></td>\n",
       "      <td>2</td>\n",
       "      <td>11</td>\n",
       "      <td>2</td>\n",
       "      <td>3</td>\n",
       "      <td>20</td>\n",
       "      <td>5</td>\n",
       "      <td>6</td>\n",
       "      <td>1976</td>\n",
       "      <td>False</td>\n",
       "    </tr>\n",
       "    <tr>\n",
       "      <th>4</th>\n",
       "      <td>2070</td>\n",
       "      <td>46</td>\n",
       "      <td>46-55</td>\n",
       "      <td>False</td>\n",
       "      <td>Unknown</td>\n",
       "      <td>1319</td>\n",
       "      <td>Sales</td>\n",
       "      <td>3</td>\n",
       "      <td>3</td>\n",
       "      <td>Technical Degree</td>\n",
       "      <td>...</td>\n",
       "      <td></td>\n",
       "      <td>1</td>\n",
       "      <td>11</td>\n",
       "      <td>5</td>\n",
       "      <td>3</td>\n",
       "      <td>19</td>\n",
       "      <td>2</td>\n",
       "      <td>8</td>\n",
       "      <td>1977</td>\n",
       "      <td>False</td>\n",
       "    </tr>\n",
       "  </tbody>\n",
       "</table>\n",
       "<p>5 rows × 35 columns</p>\n",
       "</div>"
      ],
      "text/plain": [
       "   Employee_Number  Age Age_Group  Attrition Business_Travel  Daily_Rate  \\\n",
       "0              162   51     46-55      False         Unknown         684   \n",
       "1              259   52     46-55      False         Unknown         699   \n",
       "2              319   42     36-45      False   Travel Rarely         532   \n",
       "3             2069   47     46-55      False   Travel Rarely         359   \n",
       "4             2070   46     46-55      False         Unknown        1319   \n",
       "\n",
       "               Department  Distance_From_Home  Education   Education_Field  \\\n",
       "0  Research & Development                   6          3           Unknown   \n",
       "1                 Unknown                   1          4     Life Sciences   \n",
       "2  Research & Development                   4          2  Technical Degree   \n",
       "3  Research & Development                   2          4           Medical   \n",
       "4                   Sales                   3          3  Technical Degree   \n",
       "\n",
       "   ...  Satisfaction_Group Stock_Option_Level  Total_Working_Years  \\\n",
       "0  ...                                      0                   11   \n",
       "1  ...                                      1                   34   \n",
       "2  ...                                      0                   22   \n",
       "3  ...                                      2                   11   \n",
       "4  ...                                      1                   11   \n",
       "\n",
       "   Training_Times_Last_Year  Work_Life_Balance Years_At_Company  \\\n",
       "0                         5                  3               20   \n",
       "1                         5                  3               33   \n",
       "2                         3                  3               22   \n",
       "3                         2                  3               20   \n",
       "4                         5                  3               19   \n",
       "\n",
       "   Years_Since_Last_Promotion Years_With_Curr_Manager  Date_Birth  Remote_Work  \n",
       "0                          15                      15        1972         True  \n",
       "1                          11                       9        1971         True  \n",
       "2                          11                      15        1981         True  \n",
       "3                           5                       6        1976        False  \n",
       "4                           2                       8        1977        False  \n",
       "\n",
       "[5 rows x 35 columns]"
      ]
     },
     "execution_count": 75,
     "metadata": {},
     "output_type": "execute_result"
    }
   ],
   "source": [
    "# df.head()"
   ]
  },
  {
   "cell_type": "code",
   "execution_count": 76,
   "metadata": {},
   "outputs": [
    {
     "data": {
      "text/plain": [
       "0"
      ]
     },
     "execution_count": 76,
     "metadata": {},
     "output_type": "execute_result"
    }
   ],
   "source": [
    "# df.index.duplicated().sum()"
   ]
  },
  {
   "cell_type": "code",
   "execution_count": 77,
   "metadata": {},
   "outputs": [
    {
     "name": "stdout",
     "output_type": "stream",
     "text": [
      "False\n"
     ]
    }
   ],
   "source": [
    "# print(df.index.isnull().any())"
   ]
  },
  {
   "cell_type": "code",
   "execution_count": 79,
   "metadata": {},
   "outputs": [
    {
     "data": {
      "text/plain": [
       "array([0, 1, 2, 3])"
      ]
     },
     "execution_count": 79,
     "metadata": {},
     "output_type": "execute_result"
    }
   ],
   "source": [
    "# df.Stock_Option_Level.unique()"
   ]
  }
 ],
 "metadata": {
  "kernelspec": {
   "display_name": "base",
   "language": "python",
   "name": "python3"
  },
  "language_info": {
   "codemirror_mode": {
    "name": "ipython",
    "version": 3
   },
   "file_extension": ".py",
   "mimetype": "text/x-python",
   "name": "python",
   "nbconvert_exporter": "python",
   "pygments_lexer": "ipython3",
   "version": "3.11.8"
  }
 },
 "nbformat": 4,
 "nbformat_minor": 2
}
