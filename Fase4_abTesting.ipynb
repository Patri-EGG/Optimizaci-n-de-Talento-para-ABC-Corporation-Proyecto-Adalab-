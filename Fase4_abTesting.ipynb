{
 "cells": [
  {
   "cell_type": "markdown",
   "metadata": {},
   "source": [
    "\n",
    "Divide a los empleados en los grupos A y B según los criterios establecidos.\n",
    "#Patri\n",
    "Calcula la tasa de rotación (porcentaje de empleados que dejaron la empresa) en cada grupo.\n",
    "#Porcentajes segun grupo A y B\n",
    "Realiza un análisis estadístico para determinar si hay una diferencia significativa en la tasa de rotación entre los grupos A y B.\n",
    "#Prueba de hipotesis con método ttest_ind() con cada grupo.\n",
    "H0= Afirmamos que no hay diferencia\n",
    "H1= Afirmamos que si la hay, los datos no se corresponden.\n",
    "\n",
    "Analiza los resultados.\n",
    "#Afirmar si H0 o H1\n",
    "\n",
    "Calcular la magnitud de esta relación utilizando estadísticas como la diferencia de medias por ejemplo.\n",
    "#Necesitamos la media de cada grupo.\n",
    "???"
   ]
  }
 ],
 "metadata": {
  "kernelspec": {
   "display_name": "Python 3",
   "language": "python",
   "name": "python3"
  },
  "language_info": {
   "name": "python",
   "version": "3.12.2"
  }
 },
 "nbformat": 4,
 "nbformat_minor": 2
}
