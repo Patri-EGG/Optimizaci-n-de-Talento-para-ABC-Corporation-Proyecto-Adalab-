{
 "cells": [
  {
   "cell_type": "markdown",
   "metadata": {},
   "source": [
    "* FASE 4\n",
    "\n",
    "#La métrica principal que debes usar es la tasa de rotación de empleados (Attrition) en cada grupo. Recordemos que, en esta columna, \"No\" indica que el empleado no ha dejado la empresa (sin rotación), mientras que \"Yes\" indica que el empleado ha dejado la empresa (con rotación).\n",
    "\n",
    "1- Divide a los empleados en los grupos A y B según los criterios establecidos.\n",
    "Columna Satisfaction_Group \n",
    "2- Calcula la tasa de rotación (porcentaje de empleados que dejaron la empresa) en cada grupo.\n",
    "#Porcentajes segun grupo A y B\n",
    "\n",
    "3- Realiza un análisis estadístico para determinar si hay una diferencia significativa en la tasa de rotación entre los grupos A y B.\n",
    "#Prueba de hipotesis con método ttest_ind() con cada grupo.\n",
    "H0= Afirmamos que no hay diferencia\n",
    "H1= Afirmamos que si la hay, los datos no se corresponden.\n",
    "\n",
    "4- Analiza los resultados.\n",
    "#Afirmar si H0 o H1\n",
    "\n",
    "5- Calcular la magnitud de esta relación utilizando estadísticas como la diferencia de medias por ejemplo.\n",
    "(Leccion ab testing)"
   ]
  },
  {
   "cell_type": "code",
   "execution_count": 2,
   "metadata": {},
   "outputs": [],
   "source": [
    "import pandas as pd\n",
    "import numpy as np\n",
    "import matplotlib.pyplot as plt\n",
    "import seaborn as sns\n",
    "import scipy.stats as stats\n",
    "from scipy.stats import chi2_contingency, ttest_ind\n",
    "from statsmodels.stats.proportion import proportions_ztest\n",
    "pd.set_option('display.max_columns', None) \n",
    "import warnings\n",
    "warnings.filterwarnings(\"ignore\")"
   ]
  },
  {
   "cell_type": "code",
   "execution_count": 3,
   "metadata": {},
   "outputs": [
    {
     "data": {
      "text/html": [
       "<div>\n",
       "<style scoped>\n",
       "    .dataframe tbody tr th:only-of-type {\n",
       "        vertical-align: middle;\n",
       "    }\n",
       "\n",
       "    .dataframe tbody tr th {\n",
       "        vertical-align: top;\n",
       "    }\n",
       "\n",
       "    .dataframe thead th {\n",
       "        text-align: right;\n",
       "    }\n",
       "</style>\n",
       "<table border=\"1\" class=\"dataframe\">\n",
       "  <thead>\n",
       "    <tr style=\"text-align: right;\">\n",
       "      <th></th>\n",
       "      <th>Employee_Number</th>\n",
       "      <th>Age</th>\n",
       "      <th>Age_Group</th>\n",
       "      <th>Attrition</th>\n",
       "      <th>Business_Travel</th>\n",
       "      <th>Daily_Rate</th>\n",
       "      <th>Department</th>\n",
       "      <th>Distance_From_Home</th>\n",
       "      <th>Education</th>\n",
       "      <th>Education_Field</th>\n",
       "      <th>Environment_Satisfaction</th>\n",
       "      <th>Gender</th>\n",
       "      <th>Hourly_Rate</th>\n",
       "      <th>Job_Involvement</th>\n",
       "      <th>Job_Level</th>\n",
       "      <th>Job_Role</th>\n",
       "      <th>Job_Satisfaction</th>\n",
       "      <th>Marital_Status</th>\n",
       "      <th>Monthly_Rate</th>\n",
       "      <th>Num_Companies_Worked</th>\n",
       "      <th>Over_Time</th>\n",
       "      <th>Percent_Salary_Hike</th>\n",
       "      <th>Performance_Rating</th>\n",
       "      <th>Relationship_Satisfaction</th>\n",
       "      <th>Stock_Option_Level</th>\n",
       "      <th>Total_Working_Years</th>\n",
       "      <th>Training_Times_Last_Year</th>\n",
       "      <th>Work_Life_Balance</th>\n",
       "      <th>Years_At_Company</th>\n",
       "      <th>Years_Since_Last_Promotion</th>\n",
       "      <th>Years_With_Curr_Manager</th>\n",
       "      <th>Date_Birth</th>\n",
       "      <th>Remote_Work</th>\n",
       "      <th>Satisfaction_Group</th>\n",
       "    </tr>\n",
       "  </thead>\n",
       "  <tbody>\n",
       "    <tr>\n",
       "      <th>0</th>\n",
       "      <td>162</td>\n",
       "      <td>51</td>\n",
       "      <td>46-55</td>\n",
       "      <td>False</td>\n",
       "      <td>Unknown</td>\n",
       "      <td>684</td>\n",
       "      <td>Research &amp; Development</td>\n",
       "      <td>6</td>\n",
       "      <td>3</td>\n",
       "      <td>Unknown</td>\n",
       "      <td>1</td>\n",
       "      <td>M</td>\n",
       "      <td>51</td>\n",
       "      <td>3</td>\n",
       "      <td>5</td>\n",
       "      <td>Research Director</td>\n",
       "      <td>3</td>\n",
       "      <td>Unknown</td>\n",
       "      <td>6462</td>\n",
       "      <td>7</td>\n",
       "      <td>False</td>\n",
       "      <td>0.13</td>\n",
       "      <td>3</td>\n",
       "      <td>3</td>\n",
       "      <td>0</td>\n",
       "      <td>11</td>\n",
       "      <td>5</td>\n",
       "      <td>3</td>\n",
       "      <td>20</td>\n",
       "      <td>15</td>\n",
       "      <td>15</td>\n",
       "      <td>1972</td>\n",
       "      <td>True</td>\n",
       "      <td>A</td>\n",
       "    </tr>\n",
       "    <tr>\n",
       "      <th>1</th>\n",
       "      <td>259</td>\n",
       "      <td>52</td>\n",
       "      <td>46-55</td>\n",
       "      <td>False</td>\n",
       "      <td>Unknown</td>\n",
       "      <td>699</td>\n",
       "      <td>Unknown</td>\n",
       "      <td>1</td>\n",
       "      <td>4</td>\n",
       "      <td>Life Sciences</td>\n",
       "      <td>3</td>\n",
       "      <td>M</td>\n",
       "      <td>65</td>\n",
       "      <td>2</td>\n",
       "      <td>5</td>\n",
       "      <td>Manager</td>\n",
       "      <td>3</td>\n",
       "      <td>Unknown</td>\n",
       "      <td>5678</td>\n",
       "      <td>0</td>\n",
       "      <td>Unknown</td>\n",
       "      <td>0.14</td>\n",
       "      <td>3</td>\n",
       "      <td>1</td>\n",
       "      <td>1</td>\n",
       "      <td>34</td>\n",
       "      <td>5</td>\n",
       "      <td>3</td>\n",
       "      <td>33</td>\n",
       "      <td>11</td>\n",
       "      <td>9</td>\n",
       "      <td>1971</td>\n",
       "      <td>True</td>\n",
       "      <td>A</td>\n",
       "    </tr>\n",
       "    <tr>\n",
       "      <th>2</th>\n",
       "      <td>319</td>\n",
       "      <td>42</td>\n",
       "      <td>36-45</td>\n",
       "      <td>False</td>\n",
       "      <td>Travel Rarely</td>\n",
       "      <td>532</td>\n",
       "      <td>Research &amp; Development</td>\n",
       "      <td>4</td>\n",
       "      <td>2</td>\n",
       "      <td>Technical Degree</td>\n",
       "      <td>3</td>\n",
       "      <td>M</td>\n",
       "      <td>58</td>\n",
       "      <td>3</td>\n",
       "      <td>5</td>\n",
       "      <td>Manager</td>\n",
       "      <td>4</td>\n",
       "      <td>Married</td>\n",
       "      <td>4933</td>\n",
       "      <td>1</td>\n",
       "      <td>False</td>\n",
       "      <td>0.11</td>\n",
       "      <td>3</td>\n",
       "      <td>4</td>\n",
       "      <td>0</td>\n",
       "      <td>22</td>\n",
       "      <td>3</td>\n",
       "      <td>3</td>\n",
       "      <td>22</td>\n",
       "      <td>11</td>\n",
       "      <td>15</td>\n",
       "      <td>1981</td>\n",
       "      <td>True</td>\n",
       "      <td>A</td>\n",
       "    </tr>\n",
       "    <tr>\n",
       "      <th>3</th>\n",
       "      <td>2069</td>\n",
       "      <td>47</td>\n",
       "      <td>46-55</td>\n",
       "      <td>False</td>\n",
       "      <td>Travel Rarely</td>\n",
       "      <td>359</td>\n",
       "      <td>Research &amp; Development</td>\n",
       "      <td>2</td>\n",
       "      <td>4</td>\n",
       "      <td>Medical</td>\n",
       "      <td>1</td>\n",
       "      <td>F</td>\n",
       "      <td>82</td>\n",
       "      <td>3</td>\n",
       "      <td>4</td>\n",
       "      <td>Research Director</td>\n",
       "      <td>3</td>\n",
       "      <td>Married</td>\n",
       "      <td>26703</td>\n",
       "      <td>3</td>\n",
       "      <td>Unknown</td>\n",
       "      <td>0.19</td>\n",
       "      <td>3</td>\n",
       "      <td>2</td>\n",
       "      <td>2</td>\n",
       "      <td>11</td>\n",
       "      <td>2</td>\n",
       "      <td>3</td>\n",
       "      <td>20</td>\n",
       "      <td>5</td>\n",
       "      <td>6</td>\n",
       "      <td>1976</td>\n",
       "      <td>False</td>\n",
       "      <td>A</td>\n",
       "    </tr>\n",
       "    <tr>\n",
       "      <th>4</th>\n",
       "      <td>2070</td>\n",
       "      <td>46</td>\n",
       "      <td>46-55</td>\n",
       "      <td>False</td>\n",
       "      <td>Unknown</td>\n",
       "      <td>1319</td>\n",
       "      <td>Sales</td>\n",
       "      <td>3</td>\n",
       "      <td>3</td>\n",
       "      <td>Technical Degree</td>\n",
       "      <td>1</td>\n",
       "      <td>F</td>\n",
       "      <td>45</td>\n",
       "      <td>4</td>\n",
       "      <td>4</td>\n",
       "      <td>Sales Executive</td>\n",
       "      <td>1</td>\n",
       "      <td>Divorced</td>\n",
       "      <td>7739</td>\n",
       "      <td>2</td>\n",
       "      <td>False</td>\n",
       "      <td>0.12</td>\n",
       "      <td>3</td>\n",
       "      <td>4</td>\n",
       "      <td>1</td>\n",
       "      <td>11</td>\n",
       "      <td>5</td>\n",
       "      <td>3</td>\n",
       "      <td>19</td>\n",
       "      <td>2</td>\n",
       "      <td>8</td>\n",
       "      <td>1977</td>\n",
       "      <td>False</td>\n",
       "      <td>B</td>\n",
       "    </tr>\n",
       "  </tbody>\n",
       "</table>\n",
       "</div>"
      ],
      "text/plain": [
       "   Employee_Number  Age Age_Group  Attrition Business_Travel  Daily_Rate  \\\n",
       "0              162   51     46-55      False         Unknown         684   \n",
       "1              259   52     46-55      False         Unknown         699   \n",
       "2              319   42     36-45      False   Travel Rarely         532   \n",
       "3             2069   47     46-55      False   Travel Rarely         359   \n",
       "4             2070   46     46-55      False         Unknown        1319   \n",
       "\n",
       "               Department  Distance_From_Home  Education   Education_Field  \\\n",
       "0  Research & Development                   6          3           Unknown   \n",
       "1                 Unknown                   1          4     Life Sciences   \n",
       "2  Research & Development                   4          2  Technical Degree   \n",
       "3  Research & Development                   2          4           Medical   \n",
       "4                   Sales                   3          3  Technical Degree   \n",
       "\n",
       "   Environment_Satisfaction Gender  Hourly_Rate  Job_Involvement  Job_Level  \\\n",
       "0                         1      M           51                3          5   \n",
       "1                         3      M           65                2          5   \n",
       "2                         3      M           58                3          5   \n",
       "3                         1      F           82                3          4   \n",
       "4                         1      F           45                4          4   \n",
       "\n",
       "              Job_Role  Job_Satisfaction Marital_Status  Monthly_Rate  \\\n",
       "0   Research Director                  3        Unknown          6462   \n",
       "1             Manager                  3        Unknown          5678   \n",
       "2             Manager                  4        Married          4933   \n",
       "3   Research Director                  3        Married         26703   \n",
       "4     Sales Executive                  1       Divorced          7739   \n",
       "\n",
       "   Num_Companies_Worked Over_Time  Percent_Salary_Hike  Performance_Rating  \\\n",
       "0                     7     False                 0.13                   3   \n",
       "1                     0   Unknown                 0.14                   3   \n",
       "2                     1     False                 0.11                   3   \n",
       "3                     3   Unknown                 0.19                   3   \n",
       "4                     2     False                 0.12                   3   \n",
       "\n",
       "   Relationship_Satisfaction  Stock_Option_Level  Total_Working_Years  \\\n",
       "0                          3                   0                   11   \n",
       "1                          1                   1                   34   \n",
       "2                          4                   0                   22   \n",
       "3                          2                   2                   11   \n",
       "4                          4                   1                   11   \n",
       "\n",
       "   Training_Times_Last_Year  Work_Life_Balance  Years_At_Company  \\\n",
       "0                         5                  3                20   \n",
       "1                         5                  3                33   \n",
       "2                         3                  3                22   \n",
       "3                         2                  3                20   \n",
       "4                         5                  3                19   \n",
       "\n",
       "   Years_Since_Last_Promotion  Years_With_Curr_Manager  Date_Birth  \\\n",
       "0                          15                       15        1972   \n",
       "1                          11                        9        1971   \n",
       "2                          11                       15        1981   \n",
       "3                           5                        6        1976   \n",
       "4                           2                        8        1977   \n",
       "\n",
       "   Remote_Work Satisfaction_Group  \n",
       "0         True                  A  \n",
       "1         True                  A  \n",
       "2         True                  A  \n",
       "3        False                  A  \n",
       "4        False                  B  "
      ]
     },
     "execution_count": 3,
     "metadata": {},
     "output_type": "execute_result"
    }
   ],
   "source": [
    "df_fase4 = pd.read_csv(\"HR_CLEAN_DATA.csv\")\n",
    "df_fase4.head()"
   ]
  },
  {
   "cell_type": "code",
   "execution_count": 4,
   "metadata": {},
   "outputs": [],
   "source": [
    "df = df_fase4.copy()"
   ]
  },
  {
   "cell_type": "code",
   "execution_count": 5,
   "metadata": {},
   "outputs": [],
   "source": [
    "#separar en 2 grupos\n",
    "#GRUPO A satisfacción igual o mayor a 3\n",
    "#GRUPO B satisfacción menor a 3\n",
    "grupo_a = df[df['Satisfaction_Group'] == \"A\"]\n",
    "grupo_b = df[df['Satisfaction_Group'] == \"B\"]"
   ]
  },
  {
   "cell_type": "code",
   "execution_count": 6,
   "metadata": {},
   "outputs": [
    {
     "name": "stdout",
     "output_type": "stream",
     "text": [
      "Tasa de rotación en el Grupo A (satisfaccion igual o mayor a 3): 13.86%\n",
      "Tasa de rotación en el Grupo B(satisfaccion menor a 3): 19.65%\n"
     ]
    }
   ],
   "source": [
    "# Calcular la tasa de rotación (porcentaje de empleados que dejaron la empresa) para cada grupo\n",
    "tasa_rotacion_a = grupo_a['Attrition'].value_counts(normalize=True).get(True, 0) * 100\n",
    "tasa_rotacion_b = grupo_b['Attrition'].value_counts(normalize=True).get(True, 0) * 100\n",
    "\n",
    "print(f\"Tasa de rotación en el Grupo A (satisfaccion igual o mayor a 3): {tasa_rotacion_a.round(2)}%\")\n",
    "print(f\"Tasa de rotación en el Grupo B(satisfaccion menor a 3): {tasa_rotacion_b.round(2)}%\")"
   ]
  },
  {
   "cell_type": "code",
   "execution_count": 7,
   "metadata": {},
   "outputs": [],
   "source": [
    "#3- Realiza un análisis estadístico para determinar si hay una diferencia significativa en la tasa de rotación entre los grupos A y B.\n",
    "#Prueba de hipotesis con método ttest_ind() con cada grupo.\n",
    "# H0= Afirmamos que no hay diferencia\n",
    "# H1= Afirmamos que si la hay, los datos no se corresponden.\n"
   ]
  },
  {
   "cell_type": "code",
   "execution_count": 8,
   "metadata": {},
   "outputs": [
    {
     "data": {
      "text/plain": [
       "Index(['Employee_Number', 'Age', 'Age_Group', 'Attrition', 'Business_Travel',\n",
       "       'Daily_Rate', 'Department', 'Distance_From_Home', 'Education',\n",
       "       'Education_Field', 'Environment_Satisfaction', 'Gender', 'Hourly_Rate',\n",
       "       'Job_Involvement', 'Job_Level', 'Job_Role', 'Job_Satisfaction',\n",
       "       'Marital_Status', 'Monthly_Rate', 'Num_Companies_Worked', 'Over_Time',\n",
       "       'Percent_Salary_Hike', 'Performance_Rating',\n",
       "       'Relationship_Satisfaction', 'Stock_Option_Level',\n",
       "       'Total_Working_Years', 'Training_Times_Last_Year', 'Work_Life_Balance',\n",
       "       'Years_At_Company', 'Years_Since_Last_Promotion',\n",
       "       'Years_With_Curr_Manager', 'Date_Birth', 'Remote_Work',\n",
       "       'Satisfaction_Group'],\n",
       "      dtype='object')"
      ]
     },
     "execution_count": 8,
     "metadata": {},
     "output_type": "execute_result"
    }
   ],
   "source": [
    "grupo_a.columns"
   ]
  },
  {
   "cell_type": "code",
   "execution_count": 9,
   "metadata": {},
   "outputs": [
    {
     "data": {
      "text/plain": [
       "<Axes: xlabel='Attrition', ylabel='count'>"
      ]
     },
     "execution_count": 9,
     "metadata": {},
     "output_type": "execute_result"
    },
    {
     "data": {
      "image/png": "[encoded data removed]",
      "text/plain": [
       "<Figure size 640x480 with 1 Axes>"
      ]
     },
     "metadata": {},
     "output_type": "display_data"
    }
   ],
   "source": [
    "# Gráfico : \n",
    "sns.countplot(x=\"Attrition\", data= df, hue=\"Satisfaction_Group\")\n",
    "#plt.set_title(\"Analisis Grupos\")\n",
    "\n",
    "#Según este gráfico, podemos pensar, a simple vista, que no hay relación significativa entre el nivel de satisfacción y el abandono de la empresa."
   ]
  },
  {
   "cell_type": "code",
   "execution_count": 10,
   "metadata": {},
   "outputs": [
    {
     "data": {
      "text/plain": [
       "<Axes: xlabel='Satisfaction_Group', ylabel='Count'>"
      ]
     },
     "execution_count": 10,
     "metadata": {},
     "output_type": "execute_result"
    },
    {
     "data": {
      "image/png": "[encoded data removed]",
      "text/plain": [
       "<Figure size 640x480 with 1 Axes>"
      ]
     },
     "metadata": {},
     "output_type": "display_data"
    }
   ],
   "source": [
    "#Entendemos ,según la tasa de rotación y este gráfico que la gente menos satisfecha abandona en mayor proporción la empresa en comparación con la gente más satisfecha.\n",
    "\n",
    "sns.histplot(data= df, x= \"Satisfaction_Group\")"
   ]
  },
  {
   "cell_type": "code",
   "execution_count": 11,
   "metadata": {},
   "outputs": [
    {
     "data": {
      "text/html": [
       "<div>\n",
       "<style scoped>\n",
       "    .dataframe tbody tr th:only-of-type {\n",
       "        vertical-align: middle;\n",
       "    }\n",
       "\n",
       "    .dataframe tbody tr th {\n",
       "        vertical-align: top;\n",
       "    }\n",
       "\n",
       "    .dataframe thead th {\n",
       "        text-align: right;\n",
       "    }\n",
       "</style>\n",
       "<table border=\"1\" class=\"dataframe\">\n",
       "  <thead>\n",
       "    <tr style=\"text-align: right;\">\n",
       "      <th></th>\n",
       "      <th>Employee_Number</th>\n",
       "      <th>Age</th>\n",
       "      <th>Age_Group</th>\n",
       "      <th>Attrition</th>\n",
       "      <th>Business_Travel</th>\n",
       "      <th>Daily_Rate</th>\n",
       "      <th>Department</th>\n",
       "      <th>Distance_From_Home</th>\n",
       "      <th>Education</th>\n",
       "      <th>Education_Field</th>\n",
       "      <th>Environment_Satisfaction</th>\n",
       "      <th>Gender</th>\n",
       "      <th>Hourly_Rate</th>\n",
       "      <th>Job_Involvement</th>\n",
       "      <th>Job_Level</th>\n",
       "      <th>Job_Role</th>\n",
       "      <th>Job_Satisfaction</th>\n",
       "      <th>Marital_Status</th>\n",
       "      <th>Monthly_Rate</th>\n",
       "      <th>Num_Companies_Worked</th>\n",
       "      <th>Over_Time</th>\n",
       "      <th>Percent_Salary_Hike</th>\n",
       "      <th>Performance_Rating</th>\n",
       "      <th>Relationship_Satisfaction</th>\n",
       "      <th>Stock_Option_Level</th>\n",
       "      <th>Total_Working_Years</th>\n",
       "      <th>Training_Times_Last_Year</th>\n",
       "      <th>Work_Life_Balance</th>\n",
       "      <th>Years_At_Company</th>\n",
       "      <th>Years_Since_Last_Promotion</th>\n",
       "      <th>Years_With_Curr_Manager</th>\n",
       "      <th>Date_Birth</th>\n",
       "      <th>Remote_Work</th>\n",
       "      <th>Satisfaction_Group</th>\n",
       "    </tr>\n",
       "  </thead>\n",
       "  <tbody>\n",
       "    <tr>\n",
       "      <th>4</th>\n",
       "      <td>2070</td>\n",
       "      <td>46</td>\n",
       "      <td>46-55</td>\n",
       "      <td>False</td>\n",
       "      <td>Unknown</td>\n",
       "      <td>1319</td>\n",
       "      <td>Sales</td>\n",
       "      <td>3</td>\n",
       "      <td>3</td>\n",
       "      <td>Technical Degree</td>\n",
       "      <td>1</td>\n",
       "      <td>F</td>\n",
       "      <td>45</td>\n",
       "      <td>4</td>\n",
       "      <td>4</td>\n",
       "      <td>Sales Executive</td>\n",
       "      <td>1</td>\n",
       "      <td>Divorced</td>\n",
       "      <td>7739</td>\n",
       "      <td>2</td>\n",
       "      <td>False</td>\n",
       "      <td>0.12</td>\n",
       "      <td>3</td>\n",
       "      <td>4</td>\n",
       "      <td>1</td>\n",
       "      <td>11</td>\n",
       "      <td>5</td>\n",
       "      <td>3</td>\n",
       "      <td>19</td>\n",
       "      <td>2</td>\n",
       "      <td>8</td>\n",
       "      <td>1977</td>\n",
       "      <td>False</td>\n",
       "      <td>B</td>\n",
       "    </tr>\n",
       "    <tr>\n",
       "      <th>6</th>\n",
       "      <td>81</td>\n",
       "      <td>59</td>\n",
       "      <td>56-65</td>\n",
       "      <td>False</td>\n",
       "      <td>Unknown</td>\n",
       "      <td>1435</td>\n",
       "      <td>Sales</td>\n",
       "      <td>25</td>\n",
       "      <td>3</td>\n",
       "      <td>Life Sciences</td>\n",
       "      <td>1</td>\n",
       "      <td>F</td>\n",
       "      <td>99</td>\n",
       "      <td>3</td>\n",
       "      <td>3</td>\n",
       "      <td>Sales Executive</td>\n",
       "      <td>1</td>\n",
       "      <td>Unknown</td>\n",
       "      <td>2354</td>\n",
       "      <td>7</td>\n",
       "      <td>Unknown</td>\n",
       "      <td>0.11</td>\n",
       "      <td>3</td>\n",
       "      <td>4</td>\n",
       "      <td>0</td>\n",
       "      <td>28</td>\n",
       "      <td>3</td>\n",
       "      <td>2</td>\n",
       "      <td>21</td>\n",
       "      <td>7</td>\n",
       "      <td>9</td>\n",
       "      <td>1964</td>\n",
       "      <td>True</td>\n",
       "      <td>B</td>\n",
       "    </tr>\n",
       "    <tr>\n",
       "      <th>8</th>\n",
       "      <td>2071</td>\n",
       "      <td>41</td>\n",
       "      <td>36-45</td>\n",
       "      <td>False</td>\n",
       "      <td>Unknown</td>\n",
       "      <td>1276</td>\n",
       "      <td>Unknown</td>\n",
       "      <td>2</td>\n",
       "      <td>5</td>\n",
       "      <td>Unknown</td>\n",
       "      <td>2</td>\n",
       "      <td>F</td>\n",
       "      <td>91</td>\n",
       "      <td>3</td>\n",
       "      <td>4</td>\n",
       "      <td>Manager</td>\n",
       "      <td>1</td>\n",
       "      <td>Married</td>\n",
       "      <td>5626</td>\n",
       "      <td>7</td>\n",
       "      <td>False</td>\n",
       "      <td>0.16</td>\n",
       "      <td>3</td>\n",
       "      <td>2</td>\n",
       "      <td>1</td>\n",
       "      <td>22</td>\n",
       "      <td>2</td>\n",
       "      <td>3</td>\n",
       "      <td>18</td>\n",
       "      <td>11</td>\n",
       "      <td>8</td>\n",
       "      <td>1982</td>\n",
       "      <td>True</td>\n",
       "      <td>B</td>\n",
       "    </tr>\n",
       "  </tbody>\n",
       "</table>\n",
       "</div>"
      ],
      "text/plain": [
       "   Employee_Number  Age Age_Group  Attrition Business_Travel  Daily_Rate  \\\n",
       "4             2070   46     46-55      False         Unknown        1319   \n",
       "6               81   59     56-65      False         Unknown        1435   \n",
       "8             2071   41     36-45      False         Unknown        1276   \n",
       "\n",
       "  Department  Distance_From_Home  Education   Education_Field  \\\n",
       "4      Sales                   3          3  Technical Degree   \n",
       "6      Sales                  25          3     Life Sciences   \n",
       "8    Unknown                   2          5           Unknown   \n",
       "\n",
       "   Environment_Satisfaction Gender  Hourly_Rate  Job_Involvement  Job_Level  \\\n",
       "4                         1      F           45                4          4   \n",
       "6                         1      F           99                3          3   \n",
       "8                         2      F           91                3          4   \n",
       "\n",
       "            Job_Role  Job_Satisfaction Marital_Status  Monthly_Rate  \\\n",
       "4   Sales Executive                  1       Divorced          7739   \n",
       "6   Sales Executive                  1        Unknown          2354   \n",
       "8           Manager                  1        Married          5626   \n",
       "\n",
       "   Num_Companies_Worked Over_Time  Percent_Salary_Hike  Performance_Rating  \\\n",
       "4                     2     False                 0.12                   3   \n",
       "6                     7   Unknown                 0.11                   3   \n",
       "8                     7     False                 0.16                   3   \n",
       "\n",
       "   Relationship_Satisfaction  Stock_Option_Level  Total_Working_Years  \\\n",
       "4                          4                   1                   11   \n",
       "6                          4                   0                   28   \n",
       "8                          2                   1                   22   \n",
       "\n",
       "   Training_Times_Last_Year  Work_Life_Balance  Years_At_Company  \\\n",
       "4                         5                  3                19   \n",
       "6                         3                  2                21   \n",
       "8                         2                  3                18   \n",
       "\n",
       "   Years_Since_Last_Promotion  Years_With_Curr_Manager  Date_Birth  \\\n",
       "4                           2                        8        1977   \n",
       "6                           7                        9        1964   \n",
       "8                          11                        8        1982   \n",
       "\n",
       "   Remote_Work Satisfaction_Group  \n",
       "4        False                  B  \n",
       "6         True                  B  \n",
       "8         True                  B  "
      ]
     },
     "execution_count": 11,
     "metadata": {},
     "output_type": "execute_result"
    }
   ],
   "source": [
    "grupo_b.head(3)"
   ]
  },
  {
   "cell_type": "code",
   "execution_count": 12,
   "metadata": {},
   "outputs": [
    {
     "data": {
      "text/plain": [
       "0.004316160331922343"
      ]
     },
     "execution_count": 12,
     "metadata": {},
     "output_type": "execute_result"
    }
   ],
   "source": [
    "test_student= ttest_ind(a=grupo_a[\"Attrition\"], b=grupo_b[\"Attrition\"], equal_var=False)\n",
    "test_student[1]"
   ]
  },
  {
   "cell_type": "code",
   "execution_count": 13,
   "metadata": {},
   "outputs": [
    {
     "name": "stdout",
     "output_type": "stream",
     "text": [
      "El p_value es: 0.004, por lo que no se rechaza la . Es decir, NO encontramos diferencia significativa entre los grupos.\n"
     ]
    }
   ],
   "source": [
    "alpha= 0.05\n",
    "\n",
    "if test_student[1] > alpha:\n",
    "    print(f\"El p_value es: {test_student[1]}, por lo que rechaza la H0. Es decir, sí existe una diferencia significativa en la tasa de rotación.\")\n",
    "else:\n",
    "    print(f\"El p_value es: {test_student[1].round(3)}, por lo que no se rechaza la . Es decir, NO encontramos diferencia significativa entre los grupos.\")\n"
   ]
  },
  {
   "cell_type": "code",
   "execution_count": 14,
   "metadata": {},
   "outputs": [
    {
     "name": "stdout",
     "output_type": "stream",
     "text": [
      "La diferencia entre las medias de ambos grupos es de: 0.06\n"
     ]
    }
   ],
   "source": [
    "# 5- Calcular la magnitud de esta relación utilizando estadísticas como la diferencia de medias por ejemplo.\n",
    "media_GrupoA= grupo_a[\"Attrition\"].mean()\n",
    "media_GrupoB =grupo_b[\"Attrition\"].mean()\n",
    "diferencia= (media_GrupoB-media_GrupoA).round(2)\n",
    "print(f\"La diferencia entre las medias de ambos grupos es de: {diferencia}\")"
   ]
  },
  {
   "cell_type": "markdown",
   "metadata": {},
   "source": [
    "# Análisis Patri:"
   ]
  },
  {
   "cell_type": "markdown",
   "metadata": {},
   "source": [
    "Divide a los empleados en los grupos A y B según los criterios establecidos.\n",
    "\n",
    "Calcula la tasa de rotación (porcentaje de empleados que dejaron la empresa) en cada grupo.\n",
    "\n",
    "Realiza un análisis estadístico para determinar si hay una diferencia significativa en la tasa de rotación entre los grupos A y B.\n",
    "\n",
    "Analiza los resultados.\n",
    "\n",
    "Calcular la magnitud de esta relación utilizando estadísticas como la diferencia de medias por ejemplo."
   ]
  },
  {
   "cell_type": "markdown",
   "metadata": {},
   "source": [
    "##### Separamos grupos por nivel de satisfacción. Incluyendo TODOS los empleados (actuales y exempleados): \n",
    "- Grupo A = Satisfechos\n",
    "- Grupo B = Descontentos"
   ]
  },
  {
   "cell_type": "code",
   "execution_count": 15,
   "metadata": {},
   "outputs": [],
   "source": [
    "grupo_a = df[df['Satisfaction_Group'] == \"A\"]\n",
    "grupo_b = df[df['Satisfaction_Group'] == \"B\"]"
   ]
  },
  {
   "cell_type": "markdown",
   "metadata": {},
   "source": [
    "##### Calculamos número total de personas por nivel de satisfacción:"
   ]
  },
  {
   "cell_type": "code",
   "execution_count": 16,
   "metadata": {},
   "outputs": [
    {
     "name": "stdout",
     "output_type": "stream",
     "text": [
      "el numero total de personas satisfechas es: \n",
      " 902\n",
      "el numero total de personas descontentas: \n",
      " 570\n"
     ]
    }
   ],
   "source": [
    "num_personas_satisfechas = grupo_a[grupo_a['Satisfaction_Group'] == \"A\"].shape[0]\n",
    "num_personas_descontentas = grupo_b[grupo_b['Satisfaction_Group'] == \"B\"].shape[0]\n",
    "print(f'el numero total de personas satisfechas es: \\n {num_personas_satisfechas}')\n",
    "print(f'el numero total de personas descontentas: \\n {num_personas_descontentas}')"
   ]
  },
  {
   "cell_type": "markdown",
   "metadata": {},
   "source": [
    "##### Separamos por rotación (Trabajan o no trabajan en la empresa) y nivel de satisfacción:"
   ]
  },
  {
   "cell_type": "code",
   "execution_count": 17,
   "metadata": {},
   "outputs": [
    {
     "name": "stdout",
     "output_type": "stream",
     "text": [
      "El número de empleados satisfechos es: 777\n",
      "El número de exempleados satisfechos es: 125\n"
     ]
    }
   ],
   "source": [
    "num_empleados_satisfechos = len(grupo_a[grupo_a['Attrition'] == False])\n",
    "num_exempleados_satisfechos = len(grupo_a[grupo_a['Attrition'] == True])\n",
    "print(f'El número de empleados satisfechos es: {num_empleados_satisfechos}')\n",
    "print(f'El número de exempleados satisfechos es: {num_exempleados_satisfechos}')"
   ]
  },
  {
   "cell_type": "code",
   "execution_count": 18,
   "metadata": {},
   "outputs": [
    {
     "name": "stdout",
     "output_type": "stream",
     "text": [
      "El número de empleados actuales descontentos en la empresa es: 458\n",
      "El número de exempleados descontentos es: 112\n"
     ]
    }
   ],
   "source": [
    "num_empleados_descontentos = len(grupo_b[grupo_b['Attrition'] == False])\n",
    "num_exempleados_descontentos= len(grupo_b[grupo_b['Attrition'] == True])\n",
    "print(f'El número de empleados actuales descontentos en la empresa es: {num_empleados_descontentos}')\n",
    "print(f'El número de exempleados descontentos es: {num_exempleados_descontentos}')"
   ]
  },
  {
   "cell_type": "markdown",
   "metadata": {},
   "source": [
    "## Tasa de rotación de cada grupo:"
   ]
  },
  {
   "cell_type": "code",
   "execution_count": 19,
   "metadata": {},
   "outputs": [
    {
     "name": "stdout",
     "output_type": "stream",
     "text": [
      "Tasa de rotación de empleados satisfechos (Grupo A): 0.16\n",
      "Tasa de rotación en el descontentos (Grupo B): 0.24\n"
     ]
    }
   ],
   "source": [
    "tasa_rotacion_personas_satisfechas = num_exempleados_satisfechos / num_empleados_satisfechos  #Grupo A\n",
    "tasa_rotacion_personas_descontentas = num_exempleados_descontentos / num_empleados_descontentos # Grupo B\n",
    "\n",
    "print(f'Tasa de rotación de empleados satisfechos (Grupo A): {tasa_rotacion_personas_satisfechas:.2f}')\n",
    "print(f'Tasa de rotación en el descontentos (Grupo B): {tasa_rotacion_personas_descontentas:.2f}')"
   ]
  },
  {
   "cell_type": "markdown",
   "metadata": {},
   "source": [
    "### Representación Gráfica de los resultados de tasas de rotación:"
   ]
  },
  {
   "cell_type": "code",
   "execution_count": 20,
   "metadata": {},
   "outputs": [
    {
     "data": {
      "image/png": "[encoded data removed]",
      "text/plain": [
       "<Figure size 500x400 with 1 Axes>"
      ]
     },
     "metadata": {},
     "output_type": "display_data"
    }
   ],
   "source": [
    "grupos_de_satisfaccion = ['Personas Satisfechas', 'Personas Descontentas']\n",
    "tasa_rotacion_grupos_satisfaccion = [0.16, 0.24]\n",
    "\n",
    "plt.figure(figsize=(5, 4))\n",
    "plt.bar(grupos_de_satisfaccion, tasa_rotacion_grupos_satisfaccion, color=['blue', 'red'])\n",
    "plt.ylabel('Tasa de Rotación')\n",
    "plt.title('Tasa de Rotación por nivel de Satisfacción');"
   ]
  },
  {
   "cell_type": "markdown",
   "metadata": {},
   "source": [
    "#### - Realizar un análisis estadístico para determinar si hay una diferencia significativa en la tasa de rotación entre los grupos A y B."
   ]
  },
  {
   "cell_type": "markdown",
   "metadata": {},
   "source": [
    "- La estadística Z indica cuántas desviaciones estándar está el resultado observado lejos del valor esperado bajo la hipótesis nula. \n",
    "\n",
    "- Si el valor de Z es grande (ya sea positivamente o negativamente) y el valor p asociado es pequeño, esto sugiere que la diferencia observada no es una casualidad y que hay una diferencia significativa entre los grupos o condiciones que estás comparando."
   ]
  },
  {
   "cell_type": "code",
   "execution_count": 21,
   "metadata": {},
   "outputs": [
    {
     "name": "stdout",
     "output_type": "stream",
     "text": [
      "Z-statistic: -2.94  \n",
      "P-value: 0.0032\n",
      "----------------------\n",
      "Al z value ser grande en comparacion al p value indica que hay una diferencia significativa y que no es una casualidad\n"
     ]
    }
   ],
   "source": [
    "count = np.array([num_exempleados_satisfechos , num_exempleados_descontentos])  # número de personas que dejaron la empresa en uestro Grupo A y B\n",
    "nobs = np.array([num_personas_satisfechas , num_personas_descontentas])  # número de total de personas evaluadas.  (Total personas en Grupo A y B)\n",
    "\n",
    "stat, pval = proportions_ztest(count, nobs)\n",
    "\n",
    "print(f'Z-statistic: {stat:.2f}  ')\n",
    "print(f'P-value: {pval:.4f}')\n",
    "print('----------------------')\n",
    "print('Al z value ser grande en comparacion al p value indica que hay una diferencia significativa y que no es una casualidad')"
   ]
  },
  {
   "cell_type": "markdown",
   "metadata": {},
   "source": [
    "##### Interpretación resultados:"
   ]
  },
  {
   "cell_type": "markdown",
   "metadata": {},
   "source": [
    "- Z-statistic: -2.94: Este valor es negativo, lo que indica que la proporción de personas que dejaron la empresa en el Grupo A (empleados satisfechos) es menor que en el Grupo B (empleados descontentos). El valor absoluto que es mayor que 2 sugiere que la diferencia es significativa, pero la dirección de la diferencia es contraria a la del incremento numérico en los datos (es decir, hay menos rotación donde podríamos esperar más, o viceversa).\n",
    "\n",
    "- P-value: 0.0032: Este es un valor muy bajo. Generalmente, un p-valor menor que 0.05 (5%) se considera suficiente para rechazar la hipótesis nula. Por lo tanto, un p-valor de 0.0032 indica que es muy improbable que la diferencia en las tasas de rotación entre los dos grupos se deba al azar. Asi que, podemos concluir con bastante seguridad que existe una diferencia significativa en las tasas de rotación entre los empleados satisfechos y los descontentos.\n",
    "\n",
    "- Nota :La hipótesis nula sería en nuestro caso que no hay diferencia en las tasas de rotación entre los dos grupos."
   ]
  },
  {
   "cell_type": "markdown",
   "metadata": {},
   "source": [
    "##### Prueba Chi-cuadrado: \n",
    "- Prueba la independencia entre dos variables categóricas en una tabla de contingencia. Se usa para determinar si dos variables categóricas son independientes."
   ]
  },
  {
   "cell_type": "markdown",
   "metadata": {},
   "source": [
    "##### Hipótesis Nula (H0)\n",
    "- H0: No hay asociación entre el estatus de empleo y el nivel de satisfacción.\n",
    "##### Hipótesis Alternativa (H1)\n",
    "- H1: Existe una asociación entre el estatus de empleo y el nivel de satisfacción."
   ]
  },
  {
   "cell_type": "markdown",
   "metadata": {},
   "source": [
    "Explicación resultados Prueba Chi-cuadrado:\n",
    "- Chi-squared Test Statistic: Valor de la estadística de prueba chi-cuadrado. Un valor más alto sugiere una mayor desviación de la independencia.\n",
    "- p-value: Si el p-valor es menor que el nivel de significancia (comúnmente 0.05), puedes rechazar la hipótesis nula de que las categorías son independientes. \n",
    "- Un p-valor bajo indica que las diferencias en las proporciones de satisfacción entre empleados y exempleados son estadísticamente significativas.\n",
    "- Degrees of freedom: Calculado como (número de filas - 1) * (número de columnas - 1).\n",
    "- Expected frequencies: Las frecuencias que se esperarían si las variables fueran independientes."
   ]
  },
  {
   "cell_type": "code",
   "execution_count": 22,
   "metadata": {},
   "outputs": [
    {
     "data": {
      "text/html": [
       "<div>\n",
       "<style scoped>\n",
       "    .dataframe tbody tr th:only-of-type {\n",
       "        vertical-align: middle;\n",
       "    }\n",
       "\n",
       "    .dataframe tbody tr th {\n",
       "        vertical-align: top;\n",
       "    }\n",
       "\n",
       "    .dataframe thead th {\n",
       "        text-align: right;\n",
       "    }\n",
       "</style>\n",
       "<table border=\"1\" class=\"dataframe\">\n",
       "  <thead>\n",
       "    <tr style=\"text-align: right;\">\n",
       "      <th></th>\n",
       "      <th>Satisfechos</th>\n",
       "      <th>Descontentos</th>\n",
       "    </tr>\n",
       "  </thead>\n",
       "  <tbody>\n",
       "    <tr>\n",
       "      <th>Empleados</th>\n",
       "      <td>777</td>\n",
       "      <td>458</td>\n",
       "    </tr>\n",
       "    <tr>\n",
       "      <th>Exempleados</th>\n",
       "      <td>125</td>\n",
       "      <td>112</td>\n",
       "    </tr>\n",
       "  </tbody>\n",
       "</table>\n",
       "</div>"
      ],
      "text/plain": [
       "             Satisfechos  Descontentos\n",
       "Empleados            777           458\n",
       "Exempleados          125           112"
      ]
     },
     "execution_count": 22,
     "metadata": {},
     "output_type": "execute_result"
    }
   ],
   "source": [
    "# Creamos DataFrame tabla de contingencia \n",
    "tabla_contingencia_chi = {'Satisfechos': [num_empleados_satisfechos, num_exempleados_satisfechos],\n",
    "        'Descontentos': [num_empleados_descontentos, num_exempleados_descontentos]}\n",
    "\n",
    "df_tabla_contingencia_chi = pd.DataFrame(tabla_contingencia_chi , index=['Empleados', 'Exempleados'])\n",
    "df_tabla_contingencia_chi"
   ]
  },
  {
   "cell_type": "code",
   "execution_count": 23,
   "metadata": {},
   "outputs": [
    {
     "name": "stdout",
     "output_type": "stream",
     "text": [
      "Chi-squared Test Statistic: 8.247921426404371\n",
      "p-value: 0.004079869230701133\n"
     ]
    }
   ],
   "source": [
    "# Realizamos la prueba de Chi-cuadrado\n",
    "chi2, p, dof, expected = chi2_contingency(df_tabla_contingencia_chi)  # formula sacada de stackoverflow\n",
    "\n",
    "print(\"Chi-squared Test Statistic:\", chi2)\n",
    "print(\"p-value:\", p)"
   ]
  },
  {
   "cell_type": "markdown",
   "metadata": {},
   "source": [
    "#### Interpretación resultados Prueba chi cuadrado:\n",
    "- Chi-squared Test Statistic: 8.2479\n",
    "\n",
    "- El valor de la estadística de prueba chi-cuadrado es 8.2479. Este valor indica cuánto se desvían las frecuencias observadas de las frecuencias esperadas bajo la hipótesis nula. Un valor más alto sugiere una mayor desviación.\n",
    "p-value: 0.0041\n",
    "\n",
    "- El p-valor es 0.0041, lo cual es menor que el nivel de significancia comúnmente aceptado de 0.05. Esto significa que hay suficiente evidencia para rechazar la hipótesis nula de que el estatus de empleo y la satisfacción son independientes. En decir, parece haber una asociación significativa entre el estatus de empleo y la satisfacción.\n"
   ]
  },
  {
   "cell_type": "markdown",
   "metadata": {},
   "source": [
    "#### Conclusión:\n",
    "- Existe una diferencia significativa en los niveles de satisfacción entre los empleados actuales y los exempleados."
   ]
  },
  {
   "cell_type": "markdown",
   "metadata": {},
   "source": [
    "### Siguiente paso: Identificamos si hay alguna correlación entre la satisfacción (o descontento) y otras variables como el salario bruto, el tiempo en la empresa, puesto de trabajo, etc. ????"
   ]
  }
 ],
 "metadata": {
  "kernelspec": {
   "display_name": "Python 3",
   "language": "python",
   "name": "python3"
  },
  "language_info": {
   "codemirror_mode": {
    "name": "ipython",
    "version": 3
   },
   "file_extension": ".py",
   "mimetype": "text/x-python",
   "name": "python",
   "nbconvert_exporter": "python",
   "pygments_lexer": "ipython3",
   "version": "3.11.8"
  }
 },
 "nbformat": 4,
 "nbformat_minor": 2
}
