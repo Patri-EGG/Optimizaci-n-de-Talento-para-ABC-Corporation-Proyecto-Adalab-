{
 "cells": [
  {
   "cell_type": "code",
   "execution_count": 2,
   "metadata": {},
   "outputs": [
    {
     "name": "stdout",
     "output_type": "stream",
     "text": [
      "Requirement already satisfied: PyFiglet in c:\\users\\jordy_000\\appdata\\local\\packages\\pythonsoftwarefoundation.python.3.9_qbz5n2kfra8p0\\localcache\\local-packages\\python39\\site-packages (1.0.2)\n"
     ]
    },
    {
     "name": "stderr",
     "output_type": "stream",
     "text": [
      "WARNING: You are using pip version 22.0.4; however, version 24.0 is available.\n",
      "You should consider upgrading via the 'C:\\Users\\Jordy_000\\AppData\\Local\\Microsoft\\WindowsApps\\PythonSoftwareFoundation.Python.3.9_qbz5n2kfra8p0\\python.exe -m pip install --upgrade pip' command.\n"
     ]
    },
    {
     "name": "stdout",
     "output_type": "stream",
     "text": [
      "Requirement already satisfied: colorama in c:\\users\\jordy_000\\appdata\\local\\packages\\pythonsoftwarefoundation.python.3.9_qbz5n2kfra8p0\\localcache\\local-packages\\python39\\site-packages (0.4.6)"
     ]
    },
    {
     "name": "stderr",
     "output_type": "stream",
     "text": [
      "WARNING: You are using pip version 22.0.4; however, version 24.0 is available.\n",
      "You should consider upgrading via the 'C:\\Users\\Jordy_000\\AppData\\Local\\Microsoft\\WindowsApps\\PythonSoftwareFoundation.Python.3.9_qbz5n2kfra8p0\\python.exe -m pip install --upgrade pip' command.\n"
     ]
    },
    {
     "name": "stdout",
     "output_type": "stream",
     "text": [
      "\n",
      "Requirement already satisfied: termcolor in c:\\users\\jordy_000\\appdata\\local\\packages\\pythonsoftwarefoundation.python.3.9_qbz5n2kfra8p0\\localcache\\local-packages\\python39\\site-packages (2.4.0)\n"
     ]
    },
    {
     "name": "stderr",
     "output_type": "stream",
     "text": [
      "WARNING: You are using pip version 22.0.4; however, version 24.0 is available.\n",
      "You should consider upgrading via the 'C:\\Users\\Jordy_000\\AppData\\Local\\Microsoft\\WindowsApps\\PythonSoftwareFoundation.Python.3.9_qbz5n2kfra8p0\\python.exe -m pip install --upgrade pip' command.\n"
     ]
    }
   ],
   "source": [
    "#librerias uso de ASCII\n",
    "!pip install PyFiglet \n",
    "!pip install colorama\n",
    "!pip install termcolor"
   ]
  },
  {
   "cell_type": "code",
   "execution_count": 3,
   "metadata": {},
   "outputs": [],
   "source": [
    "from pyfiglet import figlet_format\n",
    "from termcolor import colored"
   ]
  },
  {
   "cell_type": "code",
   "execution_count": 4,
   "metadata": {},
   "outputs": [
    {
     "name": "stdout",
     "output_type": "stream",
     "text": [
      "                                          \n",
      "_|_|_|      _|_|    _|_|_|_|_|    _|_|    \n",
      "_|    _|  _|    _|      _|      _|    _|  \n",
      "_|    _|  _|_|_|_|      _|      _|_|_|_|  \n",
      "_|    _|  _|    _|      _|      _|    _|  \n",
      "_|_|_|    _|    _|      _|      _|    _|  \n",
      "                                          \n",
      "                                          \n",
      "\n",
      "                                                                          \n",
      "  _|_|_|    _|_|    _|_|_|_|_|    _|_|_|  _|_|_|_|  _|_|_|_|_|    _|_|_|  \n",
      "_|        _|    _|      _|      _|        _|            _|      _|        \n",
      "_|  _|_|  _|_|_|_|      _|      _|  _|_|  _|_|_|        _|        _|_|    \n",
      "_|    _|  _|    _|      _|      _|    _|  _|            _|            _|  \n",
      "  _|_|_|  _|    _|      _|        _|_|_|  _|_|_|_|      _|      _|_|_|    \n",
      "                                                                          \n",
      "                                                                          \n",
      "\n"
     ]
    }
   ],
   "source": [
    "print(figlet_format('DATA', font='block'))\n",
    "print(figlet_format('GATGETS', font='block'))"
   ]
  },
  {
   "cell_type": "code",
   "execution_count": 6,
   "metadata": {},
   "outputs": [
    {
     "name": "stdout",
     "output_type": "stream",
     "text": [
      " _______       ___   .___________.    ___      \n",
      "|       \\     /   \\  |           |   /   \\     \n",
      "|  .--.  |   /  ^  \\ `---|  |----`  /  ^  \\    \n",
      "|  |  |  |  /  /_\\  \\    |  |      /  /_\\  \\   \n",
      "|  '--'  | /  _____  \\   |  |     /  _____  \\  \n",
      "|_______/ /__/     \\__\\  |__|    /__/     \\__\\ \n",
      "                                               \n",
      "\n",
      "  _______      ___   .___________.  _______  _______ .___________.    _______.\n",
      " /  _____|    /   \\  |           | /  _____||   ____||           |   /       |\n",
      "|  |  __     /  ^  \\ `---|  |----`|  |  __  |  |__   `---|  |----`  |   (----`\n",
      "|  | |_ |   /  /_\\  \\    |  |     |  | |_ | |   __|      |  |        \\   \\    \n",
      "|  |__| |  /  _____  \\   |  |     |  |__| | |  |____     |  |    .----)   |   \n",
      " \\______| /__/     \\__\\  |__|      \\______| |_______|    |__|    |_______/    \n",
      "                                                                              \n",
      "\n"
     ]
    }
   ],
   "source": [
    "print(figlet_format('DATA', font='starwars'))\n",
    "print(figlet_format('GATGETS', font='starwars'))"
   ]
  },
  {
   "cell_type": "code",
   "execution_count": 12,
   "metadata": {},
   "outputs": [
    {
     "name": "stdout",
     "output_type": "stream",
     "text": [
      "\u001b[36m                                          \n",
      "_|_|_|      _|_|    _|_|_|_|_|    _|_|    \n",
      "_|    _|  _|    _|      _|      _|    _|  \n",
      "_|    _|  _|_|_|_|      _|      _|_|_|_|  \n",
      "_|    _|  _|    _|      _|      _|    _|  \n",
      "_|_|_|    _|    _|      _|      _|    _|  \n",
      "                                          \n",
      "                                          \n",
      "\u001b[0m\n",
      "\u001b[36m                                                                        \n",
      "  _|_|_|    _|_|    _|_|_|      _|_|_|  _|_|_|_|  _|_|_|_|_|    _|_|_|  \n",
      "_|        _|    _|  _|    _|  _|        _|            _|      _|        \n",
      "_|  _|_|  _|_|_|_|  _|    _|  _|  _|_|  _|_|_|        _|        _|_|    \n",
      "_|    _|  _|    _|  _|    _|  _|    _|  _|            _|            _|  \n",
      "  _|_|_|  _|    _|  _|_|_|      _|_|_|  _|_|_|_|      _|      _|_|_|    \n",
      "                                                                        \n",
      "                                                                        \n",
      "\u001b[0m\n"
     ]
    }
   ],
   "source": [
    "# Renderiza \"DATA\" en 'color'\n",
    "data_texto = figlet_format('DATA', font='block')\n",
    "data_colorido = colored(data_texto, 'cyan')\n",
    "print(data_colorido)\n",
    "\n",
    "# Renderiza \"GADGETS\" en 'color'\n",
    "gadgets_texto = figlet_format('GADGETS', font='block')\n",
    "gadgets_colorido = colored(gadgets_texto, 'cyan')\n",
    "print(gadgets_colorido)\n",
    "\n",
    "# colores que puedo usar \n",
    "# 'red': Rojo\n",
    "# 'green': Verde\n",
    "# 'yellow': Amarillo\n",
    "# 'blue': Azul\n",
    "# 'magenta': Magenta\n",
    "# 'cyan': Cian\n",
    "# 'white': Blanco"
   ]
  },
  {
   "cell_type": "code",
   "execution_count": 9,
   "metadata": {},
   "outputs": [
    {
     "name": "stdout",
     "output_type": "stream",
     "text": [
      "\u001b[35m _______       ___   .___________.    ___      \n",
      "|       \\     /   \\  |           |   /   \\     \n",
      "|  .--.  |   /  ^  \\ `---|  |----`  /  ^  \\    \n",
      "|  |  |  |  /  /_\\  \\    |  |      /  /_\\  \\   \n",
      "|  '--'  | /  _____  \\   |  |     /  _____  \\  \n",
      "|_______/ /__/     \\__\\  |__|    /__/     \\__\\ \n",
      "                                               \n",
      "\u001b[0m\n",
      "\u001b[35m  _______      ___       _______   _______  _______ .___________.    _______.\n",
      " /  _____|    /   \\     |       \\ /  _____||   ____||           |   /       |\n",
      "|  |  __     /  ^  \\    |  .--.  |  |  __  |  |__   `---|  |----`  |   (----`\n",
      "|  | |_ |   /  /_\\  \\   |  |  |  |  | |_ | |   __|      |  |        \\   \\    \n",
      "|  |__| |  /  _____  \\  |  '--'  |  |__| | |  |____     |  |    .----)   |   \n",
      " \\______| /__/     \\__\\ |_______/ \\______| |_______|    |__|    |_______/    \n",
      "                                                                             \n",
      "\u001b[0m\n"
     ]
    }
   ],
   "source": [
    "# Renderiza \"DATA\" en 'color'\n",
    "data_texto = figlet_format('DATA', font='starwars')\n",
    "data_colorido = colored(data_texto, 'magenta')\n",
    "print(data_colorido)\n",
    "\n",
    "# Renderiza \"GADGETS\" en blanco\n",
    "gadgets_texto = figlet_format('GADGETS', font='starwars')\n",
    "gadgets_colorido = colored(gadgets_texto, 'magenta')\n",
    "print(gadgets_colorido)\n",
    "\n",
    "# colores que puedo usar \n",
    "# 'red': Rojo\n",
    "# 'green': Verde\n",
    "# 'yellow': Amarillo\n",
    "# 'blue': Azul\n",
    "# 'magenta': Magenta\n",
    "# 'cyan': Cian\n",
    "# 'white': Blanco"
   ]
  }
 ],
 "metadata": {
  "kernelspec": {
   "display_name": "Python 3",
   "language": "python",
   "name": "python3"
  },
  "language_info": {
   "codemirror_mode": {
    "name": "ipython",
    "version": 3
   },
   "file_extension": ".py",
   "mimetype": "text/x-python",
   "name": "python",
   "nbconvert_exporter": "python",
   "pygments_lexer": "ipython3",
   "version": "3.9.13"
  }
 },
 "nbformat": 4,
 "nbformat_minor": 2
}
