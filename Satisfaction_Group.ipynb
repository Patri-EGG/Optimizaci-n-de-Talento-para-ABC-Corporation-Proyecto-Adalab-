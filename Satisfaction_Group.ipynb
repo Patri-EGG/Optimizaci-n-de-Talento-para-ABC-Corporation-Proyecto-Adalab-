{
 "cells": [
  {
   "cell_type": "code",
   "execution_count": 3,
   "metadata": {},
   "outputs": [],
   "source": [
    "import pandas as pd\n",
    "import numpy as np"
   ]
  },
  {
   "cell_type": "code",
   "execution_count": 15,
   "metadata": {},
   "outputs": [],
   "source": [
    "url_raw_data='https://raw.githubusercontent.com/nuriancg/project-da-promo-H-module-3-team-1/Patricia/HR_CLEAN_DATA_2.csv'\n",
    "df_original = pd.read_csv(url_raw_data, index_col=0)"
   ]
  },
  {
   "cell_type": "code",
   "execution_count": 16,
   "metadata": {},
   "outputs": [
    {
     "data": {
      "text/plain": [
       "array([' '], dtype=object)"
      ]
     },
     "execution_count": 16,
     "metadata": {},
     "output_type": "execute_result"
    }
   ],
   "source": [
    "df_original.Satisfaction_Group.unique()"
   ]
  },
  {
   "cell_type": "code",
   "execution_count": 18,
   "metadata": {},
   "outputs": [
    {
     "data": {
      "text/plain": [
       "array([3, 4, 1, 2])"
      ]
     },
     "execution_count": 18,
     "metadata": {},
     "output_type": "execute_result"
    }
   ],
   "source": [
    "df_original.Job_Satisfaction.unique()"
   ]
  },
  {
   "cell_type": "code",
   "execution_count": 19,
   "metadata": {},
   "outputs": [],
   "source": [
    "def asignar_grupo(job_satisfaction):\n",
    "    if job_satisfaction >= 3:\n",
    "        return 'A'\n",
    "    else:\n",
    "        return 'B'\n",
    "    \n",
    "df_original['Satisfaction_Group'] = df_original['Job_Satisfaction'].apply(asignar_grupo)"
   ]
  },
  {
   "cell_type": "code",
   "execution_count": 20,
   "metadata": {},
   "outputs": [
    {
     "data": {
      "text/plain": [
       "Employee_Number\n",
       "162     A\n",
       "259     A\n",
       "319     A\n",
       "2069    A\n",
       "2070    B\n",
       "       ..\n",
       "967     A\n",
       "972     B\n",
       "2465    A\n",
       "990     A\n",
       "2466    A\n",
       "Name: Satisfaction_Group, Length: 1477, dtype: object"
      ]
     },
     "execution_count": 20,
     "metadata": {},
     "output_type": "execute_result"
    }
   ],
   "source": [
    "df_original['Satisfaction_Group']"
   ]
  }
 ],
 "metadata": {
  "kernelspec": {
   "display_name": "base",
   "language": "python",
   "name": "python3"
  },
  "language_info": {
   "codemirror_mode": {
    "name": "ipython",
    "version": 3
   },
   "file_extension": ".py",
   "mimetype": "text/x-python",
   "name": "python",
   "nbconvert_exporter": "python",
   "pygments_lexer": "ipython3",
   "version": "3.11.8"
  }
 },
 "nbformat": 4,
 "nbformat_minor": 2
}
